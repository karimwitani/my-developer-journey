{
 "cells": [
  {
   "cell_type": "code",
   "execution_count": 28,
   "metadata": {},
   "outputs": [],
   "source": [
    "n = int(input().strip())\n"
   ]
  },
  {
   "cell_type": "code",
   "execution_count": 29,
   "metadata": {},
   "outputs": [
    {
     "name": "stdout",
     "output_type": "stream",
     "text": [
      "3\n"
     ]
    }
   ],
   "source": [
    "print(n)"
   ]
  },
  {
   "cell_type": "code",
   "execution_count": 31,
   "metadata": {},
   "outputs": [],
   "source": [
    "arr = []"
   ]
  },
  {
   "cell_type": "code",
   "execution_count": 42,
   "metadata": {},
   "outputs": [],
   "source": [
    "def diagonalDifference(arr):\n",
    "    left_right_diagonal = []\n",
    "    right_left_diagonal = []\n",
    "    for i in range(len(arr)):\n",
    "        left_right_diagonal.append(arr[i][i]) \n",
    "        right_left_diagonal.append(arr[i][len(arr)-i-1])\n",
    "\n",
    "    left_right_diagonal_sum = sum(left_right_diagonal)\n",
    "    right_left_diagonal_sum = sum(right_left_diagonal)\n",
    "\n",
    "    diagoncal_difference = abs(left_right_diagonal_sum - right_left_diagonal_sum)\n",
    "\n",
    "    print(f\"left_right_diagonal: \\n{left_right_diagonal}\")\n",
    "    print(f\"right_left_diagonal: \\n{right_left_diagonal}\")\n",
    "    print(f\"diagoncal_difference: \\n{diagoncal_difference}\")\n",
    "\n",
    "    return diagoncal_difference"
   ]
  },
  {
   "cell_type": "code",
   "execution_count": 43,
   "metadata": {},
   "outputs": [
    {
     "name": "stdout",
     "output_type": "stream",
     "text": [
      "left_right_diagonal: \n",
      "[1, 5, 9]\n",
      "right_left_diagonal: \n",
      "[3, 5, 7]\n",
      "diagoncal_difference: \n",
      "0\n",
      "0\n"
     ]
    }
   ],
   "source": [
    "arr = [[1, 2, 3], [4, 5, 6], [7, 8, 9]]\n",
    "result = diagonalDifference(arr)\n",
    "print(result)"
   ]
  },
  {
   "cell_type": "code",
   "execution_count": null,
   "metadata": {},
   "outputs": [],
   "source": []
  }
 ],
 "metadata": {
  "kernelspec": {
   "display_name": "Python 3.7.9 64-bit",
   "language": "python",
   "name": "python3"
  },
  "language_info": {
   "codemirror_mode": {
    "name": "ipython",
    "version": 3
   },
   "file_extension": ".py",
   "mimetype": "text/x-python",
   "name": "python",
   "nbconvert_exporter": "python",
   "pygments_lexer": "ipython3",
   "version": "3.7.9"
  },
  "orig_nbformat": 4,
  "vscode": {
   "interpreter": {
    "hash": "e534e48711db4d1e1c48977d0d14ff85b1f16d41bcc4fdfd88268a329b3c9d66"
   }
  }
 },
 "nbformat": 4,
 "nbformat_minor": 2
}
